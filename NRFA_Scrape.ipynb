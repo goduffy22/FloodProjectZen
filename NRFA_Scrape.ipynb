{
 "cells": [
  {
   "cell_type": "code",
   "execution_count": 1,
   "metadata": {},
   "outputs": [],
   "source": [
    "import requests\n",
    "import json\n",
    "import datetime as dt\n",
    "import pandas as pd\n",
    "import numpy as np \n",
    "from selenium import webdriver\n",
    "from selenium.webdriver.common.keys import Keys\n",
    "import time"
   ]
  },
  {
   "cell_type": "code",
   "execution_count": 47,
   "metadata": {},
   "outputs": [
    {
     "name": "stderr",
     "output_type": "stream",
     "text": [
      "C:\\Users\\GeorgeCoxon\\Anaconda3\\lib\\site-packages\\ipykernel_launcher.py:9: FutureWarning: The signature of `Series.to_csv` was aligned to that of `DataFrame.to_csv`, and argument 'header' will change its default value from False to True: please pass an explicit value to suppress this warning.\n",
      "  if __name__ == '__main__':\n"
     ]
    }
   ],
   "source": [
    "#reads in stations\n",
    "file_path='C:\\Floods\\stations.csv'\n",
    "df=pd.read_csv(file_path)\n",
    "\n",
    "#gets rid of the stations that have closed and writes to a csv\n",
    "mask=np.isnan(df['Year closed'])\n",
    "codes=df['Station number'][mask]\n",
    "\n",
    "codes.to_csv(r'C:\\Floods\\stationcodes.csv')"
   ]
  },
  {
   "cell_type": "code",
   "execution_count": 60,
   "metadata": {},
   "outputs": [],
   "source": [
    "newmask=(mask+1)%2==1\n",
    "codes=df['Station number'][newmask]"
   ]
  },
  {
   "cell_type": "code",
   "execution_count": 61,
   "metadata": {},
   "outputs": [
    {
     "data": {
      "text/plain": [
       "3         3001\n",
       "7         3005\n",
       "11        4004\n",
       "19        5001\n",
       "20        5002\n",
       "23        6001\n",
       "24        6003\n",
       "25        6006\n",
       "28        6009\n",
       "38        7007\n",
       "43        8001\n",
       "45        8003\n",
       "50        8008\n",
       "55        8015\n",
       "56        8016\n",
       "57        8017\n",
       "58        8018\n",
       "59        8021\n",
       "66        9007\n",
       "67        9008\n",
       "68        9009\n",
       "70       10001\n",
       "77       11005\n",
       "82       12004\n",
       "90       13003\n",
       "102      14006\n",
       "103      14007\n",
       "105      14010\n",
       "106      15001\n",
       "107      15002\n",
       "         ...  \n",
       "1405     81001\n",
       "1409     81005\n",
       "1415     83002\n",
       "1418     83005\n",
       "1424     83011\n",
       "1425     83012\n",
       "1428     84002\n",
       "1432     84006\n",
       "1433     84007\n",
       "1440     84015\n",
       "1448     84024\n",
       "1451     84027\n",
       "1454     84031\n",
       "1455     84032\n",
       "1456     84033\n",
       "1465     86001\n",
       "1466     86002\n",
       "1475     89009\n",
       "1500    101001\n",
       "1505    101006\n",
       "1506    101007\n",
       "1526    203017\n",
       "1534    203026\n",
       "1537    203029\n",
       "1551    205003\n",
       "1555    205010\n",
       "1560    205034\n",
       "1561    205101\n",
       "1562    205105\n",
       "1566    206006\n",
       "Name: Station number, Length: 317, dtype: int64"
      ]
     },
     "execution_count": 61,
     "metadata": {},
     "output_type": "execute_result"
    }
   ],
   "source": [
    "codes"
   ]
  },
  {
   "cell_type": "code",
   "execution_count": 63,
   "metadata": {},
   "outputs": [],
   "source": []
  },
  {
   "cell_type": "code",
   "execution_count": 56,
   "metadata": {},
   "outputs": [],
   "source": [
    "driver=webdriver.Chrome()\n",
    "#initialised chrome browser and opens to first sation download page. \n",
    "#Need to click accept cookies at this point and mae full screen\n",
    "\n",
    "url=r'https://nrfa.ceh.ac.uk/data/station/download?stn=1001&dt=cdr'\n"
   ]
  },
  {
   "cell_type": "code",
   "execution_count": 62,
   "metadata": {},
   "outputs": [],
   "source": [
    "#catchment daily rainfall scrape\n",
    "\n",
    "\n",
    "for code in codes:\n",
    "    url=r'https://nrfa.ceh.ac.uk/data/station/download?stn='+str(code)+'&dt=cdr'\n",
    "    driver.get(url)\n",
    "    time.sleep(1)\n",
    "    \n",
    "    xpath=r'//*[@id=\"s2id_download-who\"]/a/span[2]/b'\n",
    "    driver.find_element_by_xpath(xpath).click()\n",
    "    xpath=r'//*[@id=\"s2id_autogen2_search\"]'\n",
    "    driver.find_element_by_xpath(xpath).send_keys('pr',Keys.ENTER)\n",
    "\n",
    "    xpath=r'//*[@id=\"download-what-other\"]'\n",
    "    driver.find_element_by_xpath(xpath).click()\n",
    "    xpath=r'//*[@id=\"download-topic-other\"]'\n",
    "    driver.find_element_by_xpath(xpath).click()\n",
    "    xpath=r'//*[@id=\"download-outputs-other\"]'\n",
    "    driver.find_element_by_xpath(xpath).click()\n",
    "    xpath=r'//*[@id=\"accept-tc\"]'\n",
    "    driver.find_element_by_xpath(xpath).click()\n",
    "    time.sleep(1)\n",
    "    \n",
    "    xpath=r'//*[@id=\"goDownload\"]'\n",
    "    driver.find_element_by_xpath(xpath).click()\n",
    "    time.sleep(1)"
   ]
  },
  {
   "cell_type": "code",
   "execution_count": null,
   "metadata": {},
   "outputs": [],
   "source": [
    "#river flow scrape \n",
    "\n",
    "for code in codes:\n",
    "    url=r'https://nrfa.ceh.ac.uk/data/station/download?stn='+str(code)+'&dt=gdf'\n",
    "    driver.get(url)\n",
    "    time.sleep(1)\n",
    "    \n",
    "    xpath=r'//*[@id=\"s2id_download-who\"]/a/span[2]/b'\n",
    "    driver.find_element_by_xpath(xpath).click()\n",
    "    xpath=r'//*[@id=\"s2id_autogen2_search\"]'\n",
    "    driver.find_element_by_xpath(xpath).send_keys('pr',Keys.ENTER)\n",
    "\n",
    "    xpath=r'//*[@id=\"download-what-other\"]'\n",
    "    driver.find_element_by_xpath(xpath).click()\n",
    "    xpath=r'//*[@id=\"download-topic-other\"]'\n",
    "    driver.find_element_by_xpath(xpath).click()\n",
    "    xpath=r'//*[@id=\"download-outputs-other\"]'\n",
    "    driver.find_element_by_xpath(xpath).click()\n",
    "    xpath=r'//*[@id=\"accept-tc\"]'\n",
    "    driver.find_element_by_xpath(xpath).click()\n",
    "    time.sleep(1)\n",
    "    \n",
    "    xpath=r'//*[@id=\"goDownload\"]'\n",
    "    driver.find_element_by_xpath(xpath).click()\n",
    "    time.sleep(1)"
   ]
  },
  {
   "cell_type": "code",
   "execution_count": null,
   "metadata": {},
   "outputs": [],
   "source": []
  },
  {
   "cell_type": "markdown",
   "metadata": {},
   "source": [
    "## Get basin data"
   ]
  },
  {
   "cell_type": "code",
   "execution_count": 30,
   "metadata": {},
   "outputs": [],
   "source": [
    "driver=webdriver.Chrome()\n"
   ]
  },
  {
   "cell_type": "code",
   "execution_count": 46,
   "metadata": {},
   "outputs": [],
   "source": [
    "for code in list(codes)[818:]:\n",
    "    url=r'https://nrfa.ceh.ac.uk/data/station/spatial_download/{}'.format(code)\n",
    "    driver.get(url)\n",
    "    \n",
    "    xpath=r'//*[@id=\"accept-tc\"]'\n",
    "    driver.find_element_by_xpath(xpath).click()\n",
    "    time.sleep(0.5)\n",
    "\n",
    "    xpath=r'//*[@id=\"goDownload\"]'\n",
    "    driver.find_element_by_xpath(xpath).click()\n",
    "    time.sleep(0.5)"
   ]
  },
  {
   "cell_type": "code",
   "execution_count": null,
   "metadata": {},
   "outputs": [],
   "source": []
  },
  {
   "cell_type": "code",
   "execution_count": 24,
   "metadata": {},
   "outputs": [],
   "source": [
    "file_paths=[]\n",
    "for code in codes:\n",
    "    file_paths.append(str(code)+'.shp')\n"
   ]
  },
  {
   "cell_type": "code",
   "execution_count": 26,
   "metadata": {},
   "outputs": [],
   "source": [
    "df=pd.DataFrame({'file_path':file_paths})\n",
    "df.to_csv('C:\\Floods\\SpatialFileNames.csv')"
   ]
  },
  {
   "cell_type": "code",
   "execution_count": 43,
   "metadata": {},
   "outputs": [
    {
     "data": {
      "text/plain": [
       "817"
      ]
     },
     "execution_count": 43,
     "metadata": {},
     "output_type": "execute_result"
    }
   ],
   "source": []
  },
  {
   "cell_type": "code",
   "execution_count": 45,
   "metadata": {},
   "outputs": [],
   "source": []
  }
 ],
 "metadata": {
  "kernelspec": {
   "display_name": "Python 3",
   "language": "python",
   "name": "python3"
  },
  "language_info": {
   "codemirror_mode": {
    "name": "ipython",
    "version": 3
   },
   "file_extension": ".py",
   "mimetype": "text/x-python",
   "name": "python",
   "nbconvert_exporter": "python",
   "pygments_lexer": "ipython3",
   "version": "3.7.2"
  }
 },
 "nbformat": 4,
 "nbformat_minor": 2
}
